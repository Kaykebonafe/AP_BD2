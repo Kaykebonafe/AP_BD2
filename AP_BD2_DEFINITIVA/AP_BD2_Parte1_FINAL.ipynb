{
 "cells": [
  {
   "cell_type": "markdown",
   "metadata": {},
   "source": [
    "Autores: Augusto Rodrigues de Oliveira e Kayke Bonafé de Luca"
   ]
  },
  {
   "cell_type": "code",
   "execution_count": 1,
   "metadata": {},
   "outputs": [],
   "source": [
    "import pandas as pd\n",
    "import numpy as np\n",
    "import matplotlib.pyplot as plt\n",
    "import os\n",
    "from sklearn.preprocessing import StandardScaler "
   ]
  },
  {
   "cell_type": "code",
   "execution_count": 2,
   "metadata": {},
   "outputs": [],
   "source": [
    "df = pd.read_excel('AP_BD2.xlsx')"
   ]
  },
  {
   "cell_type": "code",
   "execution_count": 3,
   "metadata": {
    "scrolled": true
   },
   "outputs": [
    {
     "data": {
      "text/html": [
       "<div>\n",
       "<style scoped>\n",
       "    .dataframe tbody tr th:only-of-type {\n",
       "        vertical-align: middle;\n",
       "    }\n",
       "\n",
       "    .dataframe tbody tr th {\n",
       "        vertical-align: top;\n",
       "    }\n",
       "\n",
       "    .dataframe thead th {\n",
       "        text-align: right;\n",
       "    }\n",
       "</style>\n",
       "<table border=\"1\" class=\"dataframe\">\n",
       "  <thead>\n",
       "    <tr style=\"text-align: right;\">\n",
       "      <th></th>\n",
       "      <th>V1</th>\n",
       "      <th>V2</th>\n",
       "      <th>V3</th>\n",
       "      <th>V4</th>\n",
       "      <th>V5</th>\n",
       "      <th>V6</th>\n",
       "      <th>V7</th>\n",
       "      <th>V8</th>\n",
       "      <th>V9</th>\n",
       "      <th>Desfecho</th>\n",
       "    </tr>\n",
       "  </thead>\n",
       "  <tbody>\n",
       "    <tr>\n",
       "      <td>0</td>\n",
       "      <td>2.57</td>\n",
       "      <td>492</td>\n",
       "      <td>2</td>\n",
       "      <td>59</td>\n",
       "      <td>15633</td>\n",
       "      <td>0.91</td>\n",
       "      <td>119.3</td>\n",
       "      <td>0.07</td>\n",
       "      <td>1</td>\n",
       "      <td>1</td>\n",
       "    </tr>\n",
       "    <tr>\n",
       "      <td>1</td>\n",
       "      <td>2.57</td>\n",
       "      <td>492</td>\n",
       "      <td>2</td>\n",
       "      <td>59</td>\n",
       "      <td>15633</td>\n",
       "      <td>0.91</td>\n",
       "      <td>119.3</td>\n",
       "      <td>0.07</td>\n",
       "      <td>1</td>\n",
       "      <td>1</td>\n",
       "    </tr>\n",
       "    <tr>\n",
       "      <td>2</td>\n",
       "      <td>2.57</td>\n",
       "      <td>492</td>\n",
       "      <td>2</td>\n",
       "      <td>59</td>\n",
       "      <td>15633</td>\n",
       "      <td>0.91</td>\n",
       "      <td>119.3</td>\n",
       "      <td>0.06</td>\n",
       "      <td>1</td>\n",
       "      <td>1</td>\n",
       "    </tr>\n",
       "    <tr>\n",
       "      <td>3</td>\n",
       "      <td>2.57</td>\n",
       "      <td>492</td>\n",
       "      <td>2</td>\n",
       "      <td>59</td>\n",
       "      <td>15633</td>\n",
       "      <td>0.91</td>\n",
       "      <td>119.3</td>\n",
       "      <td>0.06</td>\n",
       "      <td>1</td>\n",
       "      <td>1</td>\n",
       "    </tr>\n",
       "    <tr>\n",
       "      <td>4</td>\n",
       "      <td>2.57</td>\n",
       "      <td>492</td>\n",
       "      <td>2</td>\n",
       "      <td>59</td>\n",
       "      <td>15633</td>\n",
       "      <td>0.91</td>\n",
       "      <td>119.3</td>\n",
       "      <td>0.05</td>\n",
       "      <td>1</td>\n",
       "      <td>1</td>\n",
       "    </tr>\n",
       "  </tbody>\n",
       "</table>\n",
       "</div>"
      ],
      "text/plain": [
       "     V1   V2  V3  V4     V5    V6     V7    V8  V9  Desfecho\n",
       "0  2.57  492   2  59  15633  0.91  119.3  0.07   1         1\n",
       "1  2.57  492   2  59  15633  0.91  119.3  0.07   1         1\n",
       "2  2.57  492   2  59  15633  0.91  119.3  0.06   1         1\n",
       "3  2.57  492   2  59  15633  0.91  119.3  0.06   1         1\n",
       "4  2.57  492   2  59  15633  0.91  119.3  0.05   1         1"
      ]
     },
     "execution_count": 3,
     "metadata": {},
     "output_type": "execute_result"
    }
   ],
   "source": [
    "#Primeiras 5 linhas do Dataset\n",
    "df.head(5)"
   ]
  },
  {
   "cell_type": "code",
   "execution_count": 4,
   "metadata": {},
   "outputs": [
    {
     "data": {
      "text/html": [
       "<div>\n",
       "<style scoped>\n",
       "    .dataframe tbody tr th:only-of-type {\n",
       "        vertical-align: middle;\n",
       "    }\n",
       "\n",
       "    .dataframe tbody tr th {\n",
       "        vertical-align: top;\n",
       "    }\n",
       "\n",
       "    .dataframe thead th {\n",
       "        text-align: right;\n",
       "    }\n",
       "</style>\n",
       "<table border=\"1\" class=\"dataframe\">\n",
       "  <thead>\n",
       "    <tr style=\"text-align: right;\">\n",
       "      <th></th>\n",
       "      <th>V1</th>\n",
       "      <th>V2</th>\n",
       "      <th>V3</th>\n",
       "      <th>V4</th>\n",
       "      <th>V5</th>\n",
       "      <th>V6</th>\n",
       "      <th>V7</th>\n",
       "      <th>V8</th>\n",
       "      <th>V9</th>\n",
       "      <th>Desfecho</th>\n",
       "    </tr>\n",
       "  </thead>\n",
       "  <tbody>\n",
       "    <tr>\n",
       "      <td>count</td>\n",
       "      <td>2.157800e+04</td>\n",
       "      <td>21578.0</td>\n",
       "      <td>21578.0</td>\n",
       "      <td>21578.0</td>\n",
       "      <td>21578.0</td>\n",
       "      <td>2.157800e+04</td>\n",
       "      <td>21577.000000</td>\n",
       "      <td>21578.000000</td>\n",
       "      <td>21578.0</td>\n",
       "      <td>21578.000000</td>\n",
       "    </tr>\n",
       "    <tr>\n",
       "      <td>mean</td>\n",
       "      <td>2.570000e+00</td>\n",
       "      <td>492.0</td>\n",
       "      <td>2.0</td>\n",
       "      <td>59.0</td>\n",
       "      <td>15633.0</td>\n",
       "      <td>9.100000e-01</td>\n",
       "      <td>119.230273</td>\n",
       "      <td>0.080643</td>\n",
       "      <td>1.0</td>\n",
       "      <td>0.250533</td>\n",
       "    </tr>\n",
       "    <tr>\n",
       "      <td>std</td>\n",
       "      <td>2.637951e-13</td>\n",
       "      <td>0.0</td>\n",
       "      <td>0.0</td>\n",
       "      <td>0.0</td>\n",
       "      <td>0.0</td>\n",
       "      <td>1.264573e-13</td>\n",
       "      <td>1.978065</td>\n",
       "      <td>0.197035</td>\n",
       "      <td>0.0</td>\n",
       "      <td>0.433330</td>\n",
       "    </tr>\n",
       "    <tr>\n",
       "      <td>min</td>\n",
       "      <td>2.570000e+00</td>\n",
       "      <td>492.0</td>\n",
       "      <td>2.0</td>\n",
       "      <td>59.0</td>\n",
       "      <td>15633.0</td>\n",
       "      <td>9.100000e-01</td>\n",
       "      <td>19.850000</td>\n",
       "      <td>0.000000</td>\n",
       "      <td>1.0</td>\n",
       "      <td>0.000000</td>\n",
       "    </tr>\n",
       "    <tr>\n",
       "      <td>25%</td>\n",
       "      <td>2.570000e+00</td>\n",
       "      <td>492.0</td>\n",
       "      <td>2.0</td>\n",
       "      <td>59.0</td>\n",
       "      <td>15633.0</td>\n",
       "      <td>9.100000e-01</td>\n",
       "      <td>119.300000</td>\n",
       "      <td>0.060000</td>\n",
       "      <td>1.0</td>\n",
       "      <td>0.000000</td>\n",
       "    </tr>\n",
       "    <tr>\n",
       "      <td>50%</td>\n",
       "      <td>2.570000e+00</td>\n",
       "      <td>492.0</td>\n",
       "      <td>2.0</td>\n",
       "      <td>59.0</td>\n",
       "      <td>15633.0</td>\n",
       "      <td>9.100000e-01</td>\n",
       "      <td>119.300000</td>\n",
       "      <td>0.080000</td>\n",
       "      <td>1.0</td>\n",
       "      <td>0.000000</td>\n",
       "    </tr>\n",
       "    <tr>\n",
       "      <td>75%</td>\n",
       "      <td>2.570000e+00</td>\n",
       "      <td>492.0</td>\n",
       "      <td>2.0</td>\n",
       "      <td>59.0</td>\n",
       "      <td>15633.0</td>\n",
       "      <td>9.100000e-01</td>\n",
       "      <td>119.300000</td>\n",
       "      <td>0.080000</td>\n",
       "      <td>1.0</td>\n",
       "      <td>1.000000</td>\n",
       "    </tr>\n",
       "    <tr>\n",
       "      <td>max</td>\n",
       "      <td>2.570000e+00</td>\n",
       "      <td>492.0</td>\n",
       "      <td>2.0</td>\n",
       "      <td>59.0</td>\n",
       "      <td>15633.0</td>\n",
       "      <td>9.100000e-01</td>\n",
       "      <td>119.300000</td>\n",
       "      <td>13.230000</td>\n",
       "      <td>1.0</td>\n",
       "      <td>1.000000</td>\n",
       "    </tr>\n",
       "  </tbody>\n",
       "</table>\n",
       "</div>"
      ],
      "text/plain": [
       "                 V1       V2       V3       V4       V5            V6  \\\n",
       "count  2.157800e+04  21578.0  21578.0  21578.0  21578.0  2.157800e+04   \n",
       "mean   2.570000e+00    492.0      2.0     59.0  15633.0  9.100000e-01   \n",
       "std    2.637951e-13      0.0      0.0      0.0      0.0  1.264573e-13   \n",
       "min    2.570000e+00    492.0      2.0     59.0  15633.0  9.100000e-01   \n",
       "25%    2.570000e+00    492.0      2.0     59.0  15633.0  9.100000e-01   \n",
       "50%    2.570000e+00    492.0      2.0     59.0  15633.0  9.100000e-01   \n",
       "75%    2.570000e+00    492.0      2.0     59.0  15633.0  9.100000e-01   \n",
       "max    2.570000e+00    492.0      2.0     59.0  15633.0  9.100000e-01   \n",
       "\n",
       "                 V7            V8       V9      Desfecho  \n",
       "count  21577.000000  21578.000000  21578.0  21578.000000  \n",
       "mean     119.230273      0.080643      1.0      0.250533  \n",
       "std        1.978065      0.197035      0.0      0.433330  \n",
       "min       19.850000      0.000000      1.0      0.000000  \n",
       "25%      119.300000      0.060000      1.0      0.000000  \n",
       "50%      119.300000      0.080000      1.0      0.000000  \n",
       "75%      119.300000      0.080000      1.0      1.000000  \n",
       "max      119.300000     13.230000      1.0      1.000000  "
      ]
     },
     "execution_count": 4,
     "metadata": {},
     "output_type": "execute_result"
    }
   ],
   "source": [
    "#Descrição da média, desvio padrão, quartiles, mínimo, máximo e quantidade de observações em cada variável\n",
    "#Pela quantidade na variável V7, é possível notar que existem valores nulos\n",
    "df.describe()"
   ]
  },
  {
   "cell_type": "code",
   "execution_count": 5,
   "metadata": {},
   "outputs": [],
   "source": [
    "#Remoção da linha com valor nulo\n",
    "df.dropna(inplace=True)"
   ]
  },
  {
   "cell_type": "code",
   "execution_count": 6,
   "metadata": {},
   "outputs": [],
   "source": [
    "scaler = StandardScaler()\n",
    "x = df.loc[:,[\"V1\", \"V2\", \"V3\", \"V4\", \"V5\", \"V6\", \"V7\", \"V8\", \"V9\"]].values\n",
    "x_conceptProof = scaler.fit_transform(x) #Transforma todas as variáveis em x, padronizando-as de acordo com o algoritmo Standard Scaler"
   ]
  },
  {
   "cell_type": "code",
   "execution_count": 7,
   "metadata": {},
   "outputs": [
    {
     "data": {
      "text/html": [
       "<div>\n",
       "<style scoped>\n",
       "    .dataframe tbody tr th:only-of-type {\n",
       "        vertical-align: middle;\n",
       "    }\n",
       "\n",
       "    .dataframe tbody tr th {\n",
       "        vertical-align: top;\n",
       "    }\n",
       "\n",
       "    .dataframe thead th {\n",
       "        text-align: right;\n",
       "    }\n",
       "</style>\n",
       "<table border=\"1\" class=\"dataframe\">\n",
       "  <thead>\n",
       "    <tr style=\"text-align: right;\">\n",
       "      <th></th>\n",
       "      <th>V1</th>\n",
       "      <th>V2</th>\n",
       "      <th>V3</th>\n",
       "      <th>V4</th>\n",
       "      <th>V5</th>\n",
       "      <th>V6</th>\n",
       "      <th>V7</th>\n",
       "      <th>V8</th>\n",
       "      <th>V9</th>\n",
       "      <th>Desfecho</th>\n",
       "    </tr>\n",
       "  </thead>\n",
       "  <tbody>\n",
       "    <tr>\n",
       "      <td>V1</td>\n",
       "      <td>1.000000e+00</td>\n",
       "      <td>NaN</td>\n",
       "      <td>NaN</td>\n",
       "      <td>NaN</td>\n",
       "      <td>NaN</td>\n",
       "      <td>1.000000e+00</td>\n",
       "      <td>3.810395e-12</td>\n",
       "      <td>9.959401e-14</td>\n",
       "      <td>NaN</td>\n",
       "      <td>-3.358080e-14</td>\n",
       "    </tr>\n",
       "    <tr>\n",
       "      <td>V2</td>\n",
       "      <td>NaN</td>\n",
       "      <td>NaN</td>\n",
       "      <td>NaN</td>\n",
       "      <td>NaN</td>\n",
       "      <td>NaN</td>\n",
       "      <td>NaN</td>\n",
       "      <td>NaN</td>\n",
       "      <td>NaN</td>\n",
       "      <td>NaN</td>\n",
       "      <td>NaN</td>\n",
       "    </tr>\n",
       "    <tr>\n",
       "      <td>V3</td>\n",
       "      <td>NaN</td>\n",
       "      <td>NaN</td>\n",
       "      <td>NaN</td>\n",
       "      <td>NaN</td>\n",
       "      <td>NaN</td>\n",
       "      <td>NaN</td>\n",
       "      <td>NaN</td>\n",
       "      <td>NaN</td>\n",
       "      <td>NaN</td>\n",
       "      <td>NaN</td>\n",
       "    </tr>\n",
       "    <tr>\n",
       "      <td>V4</td>\n",
       "      <td>NaN</td>\n",
       "      <td>NaN</td>\n",
       "      <td>NaN</td>\n",
       "      <td>NaN</td>\n",
       "      <td>NaN</td>\n",
       "      <td>NaN</td>\n",
       "      <td>NaN</td>\n",
       "      <td>NaN</td>\n",
       "      <td>NaN</td>\n",
       "      <td>NaN</td>\n",
       "    </tr>\n",
       "    <tr>\n",
       "      <td>V5</td>\n",
       "      <td>NaN</td>\n",
       "      <td>NaN</td>\n",
       "      <td>NaN</td>\n",
       "      <td>NaN</td>\n",
       "      <td>NaN</td>\n",
       "      <td>NaN</td>\n",
       "      <td>NaN</td>\n",
       "      <td>NaN</td>\n",
       "      <td>NaN</td>\n",
       "      <td>NaN</td>\n",
       "    </tr>\n",
       "    <tr>\n",
       "      <td>V6</td>\n",
       "      <td>1.000000e+00</td>\n",
       "      <td>NaN</td>\n",
       "      <td>NaN</td>\n",
       "      <td>NaN</td>\n",
       "      <td>NaN</td>\n",
       "      <td>1.000000e+00</td>\n",
       "      <td>3.808606e-12</td>\n",
       "      <td>1.003711e-13</td>\n",
       "      <td>NaN</td>\n",
       "      <td>1.622112e-16</td>\n",
       "    </tr>\n",
       "    <tr>\n",
       "      <td>V7</td>\n",
       "      <td>3.810395e-12</td>\n",
       "      <td>NaN</td>\n",
       "      <td>NaN</td>\n",
       "      <td>NaN</td>\n",
       "      <td>NaN</td>\n",
       "      <td>3.808606e-12</td>\n",
       "      <td>1.000000e+00</td>\n",
       "      <td>1.584077e-03</td>\n",
       "      <td>NaN</td>\n",
       "      <td>2.038169e-02</td>\n",
       "    </tr>\n",
       "    <tr>\n",
       "      <td>V8</td>\n",
       "      <td>9.959401e-14</td>\n",
       "      <td>NaN</td>\n",
       "      <td>NaN</td>\n",
       "      <td>NaN</td>\n",
       "      <td>NaN</td>\n",
       "      <td>1.003711e-13</td>\n",
       "      <td>1.584077e-03</td>\n",
       "      <td>1.000000e+00</td>\n",
       "      <td>NaN</td>\n",
       "      <td>2.001081e-02</td>\n",
       "    </tr>\n",
       "    <tr>\n",
       "      <td>V9</td>\n",
       "      <td>NaN</td>\n",
       "      <td>NaN</td>\n",
       "      <td>NaN</td>\n",
       "      <td>NaN</td>\n",
       "      <td>NaN</td>\n",
       "      <td>NaN</td>\n",
       "      <td>NaN</td>\n",
       "      <td>NaN</td>\n",
       "      <td>NaN</td>\n",
       "      <td>NaN</td>\n",
       "    </tr>\n",
       "    <tr>\n",
       "      <td>Desfecho</td>\n",
       "      <td>-3.358080e-14</td>\n",
       "      <td>NaN</td>\n",
       "      <td>NaN</td>\n",
       "      <td>NaN</td>\n",
       "      <td>NaN</td>\n",
       "      <td>1.622112e-16</td>\n",
       "      <td>2.038169e-02</td>\n",
       "      <td>2.001081e-02</td>\n",
       "      <td>NaN</td>\n",
       "      <td>1.000000e+00</td>\n",
       "    </tr>\n",
       "  </tbody>\n",
       "</table>\n",
       "</div>"
      ],
      "text/plain": [
       "                    V1  V2  V3  V4  V5            V6            V7  \\\n",
       "V1        1.000000e+00 NaN NaN NaN NaN  1.000000e+00  3.810395e-12   \n",
       "V2                 NaN NaN NaN NaN NaN           NaN           NaN   \n",
       "V3                 NaN NaN NaN NaN NaN           NaN           NaN   \n",
       "V4                 NaN NaN NaN NaN NaN           NaN           NaN   \n",
       "V5                 NaN NaN NaN NaN NaN           NaN           NaN   \n",
       "V6        1.000000e+00 NaN NaN NaN NaN  1.000000e+00  3.808606e-12   \n",
       "V7        3.810395e-12 NaN NaN NaN NaN  3.808606e-12  1.000000e+00   \n",
       "V8        9.959401e-14 NaN NaN NaN NaN  1.003711e-13  1.584077e-03   \n",
       "V9                 NaN NaN NaN NaN NaN           NaN           NaN   \n",
       "Desfecho -3.358080e-14 NaN NaN NaN NaN  1.622112e-16  2.038169e-02   \n",
       "\n",
       "                    V8  V9      Desfecho  \n",
       "V1        9.959401e-14 NaN -3.358080e-14  \n",
       "V2                 NaN NaN           NaN  \n",
       "V3                 NaN NaN           NaN  \n",
       "V4                 NaN NaN           NaN  \n",
       "V5                 NaN NaN           NaN  \n",
       "V6        1.003711e-13 NaN  1.622112e-16  \n",
       "V7        1.584077e-03 NaN  2.038169e-02  \n",
       "V8        1.000000e+00 NaN  2.001081e-02  \n",
       "V9                 NaN NaN           NaN  \n",
       "Desfecho  2.001081e-02 NaN  1.000000e+00  "
      ]
     },
     "execution_count": 7,
     "metadata": {},
     "output_type": "execute_result"
    }
   ],
   "source": [
    "'''\n",
    "Correlação das variáveis com a classe Desfecho\n",
    "Existe um indício que as variáveis que possuem algum tipo de correlação com a classe\n",
    "são as variáveis V1, V6, V7 e V8\n",
    "\n",
    "Como a correlação de V1 e V6 entre o desfecho apresenta valores extremamente próximos de 0,\n",
    "ambas as variáveis também podem ser descartadas, visto que seu impacto no treinamento será \n",
    "mínimo.\n",
    "\n",
    "Pode-se provar esta afirmação ao utilizar o algoritmo Random Forest.\n",
    "'''\n",
    "\n",
    "df.corr()"
   ]
  },
  {
   "cell_type": "markdown",
   "metadata": {},
   "source": [
    "**Random Forest - Prova de conceito**\n",
    "\n",
    "\"Random Forest é uma combinação de preditores de árvores, de modo que cada árvore depende dos valores de um vetor aleatório amostrado independentemente e com a mesma distribuição para todas as árvores da floresta.\" - https://www.stat.berkeley.edu/~breiman/randomforest2001.pdf\n",
    "\n",
    "Após utilizar o algoritmo, verificou-se que apenas a V8 exerce algum tipo de influência no Desfecho. \n",
    "Esta afirmação tem seu embasamento na significância retornada pelo algoritmo."
   ]
  },
  {
   "cell_type": "code",
   "execution_count": 8,
   "metadata": {},
   "outputs": [
    {
     "data": {
      "image/png": "[encoded data removed]",
      "text/plain": [
       "<Figure size 864x576 with 1 Axes>"
      ]
     },
     "metadata": {
      "needs_background": "dark"
     },
     "output_type": "display_data"
    }
   ],
   "source": [
    "from sklearn.ensemble import RandomForestClassifier\n",
    "np.random.seed(42) # define the seed (important to reproduce the results)\n",
    "# define os parâmetros do modelo\n",
    "model = RandomForestClassifier()\n",
    "model.fit(x_conceptProof, df[\"Desfecho\"].values)\n",
    "\n",
    "importances = model.feature_importances_\n",
    "indices = np.argsort(importances)\n",
    "\n",
    "features_names = [\"V1\", \"V2\", \"V3\", \"V4\", \"V5\", \"V6\", \"V7\", \"V8\", \"V9\"]\n",
    "lmeas_order = []\n",
    "for i in indices:\n",
    "    lmeas_order.append(features_names[i])\n",
    "plt.figure(figsize=(12,8))\n",
    "plt.barh(range(len(indices)), importances[indices], color='g', align='center')\n",
    "plt.yticks(range(len(indices)), lmeas_order, fontsize=15)\n",
    "plt.xlabel('Relative Importance',fontsize=15, color='white')\n",
    "plt.xticks(color='white', size=20)\n",
    "plt.yticks(color='white', size=20)\n",
    "plt.show()"
   ]
  },
  {
   "cell_type": "markdown",
   "metadata": {},
   "source": [
    "**Voltando à analise do Dataset**"
   ]
  },
  {
   "cell_type": "code",
   "execution_count": 9,
   "metadata": {},
   "outputs": [],
   "source": [
    "scaler = StandardScaler()\n",
    "x = df.loc[:,[\"V8\"]].values\n",
    "x = scaler.fit_transform(x)\n",
    "\n",
    "y = df[\"Desfecho\"].values"
   ]
  },
  {
   "cell_type": "code",
   "execution_count": 10,
   "metadata": {},
   "outputs": [],
   "source": [
    "from sklearn.model_selection import train_test_split\n",
    "#Dividindo os dados entre treino e teste é possível separar um conjunto de observações onde o desfecho é conhecido, e outro onde o mesmo não é conhecido\n",
    "X_train, X_test, y_train, y_test = train_test_split(x, y, test_size = 0.3, random_state = 42)#Por convenção, divide-se até 30% da base para testes e o restante para treino"
   ]
  },
  {
   "cell_type": "markdown",
   "metadata": {},
   "source": [
    "**Regressão Linear**\n",
    "\n",
    "\"A análise de regressão linear gera uma equação que descreve a relação estatística entre uma ou mais variáveis preditoras e a variável resposta. A regressão linear encontra a linha que melhor representa as variáveis de entrada com a variável de saída. Mas na verdade, como você deve ter observado nos gráficos de dispersão que realizou, é muito difícil encontrar uma linha que passe sobre todos os dados.\" - https://www.ncbi.nlm.nih.gov/pmc/articles/PMC2992018/\n",
    "\n",
    "Pela precisão do modelo, somado à representação gráfica da linha de regressão, é possível verificar que o problema do desfecho não é quantitativo, mas sim, qualitativo. Isso significa que o algoritmo de Regressão linear não terá uma performance aceitável neste caso."
   ]
  },
  {
   "cell_type": "code",
   "execution_count": 11,
   "metadata": {},
   "outputs": [
    {
     "name": "stdout",
     "output_type": "stream",
     "text": [
      "Precisão do modelo: -0.01169259615094731 %\n"
     ]
    }
   ],
   "source": [
    "from sklearn.linear_model import LinearRegression\n",
    "regression = LinearRegression()\n",
    "regression.fit(X_train, y_train)\n",
    "print(\"Precisão do modelo:\" ,regression.score(X_test, y_test)*100, \"%\")"
   ]
  },
  {
   "cell_type": "code",
   "execution_count": 12,
   "metadata": {},
   "outputs": [
    {
     "data": {
      "image/png": "[encoded data removed]",
      "text/plain": [
       "<Figure size 432x288 with 1 Axes>"
      ]
     },
     "metadata": {},
     "output_type": "display_data"
    }
   ],
   "source": [
    "plt.scatter(X_test, y_test,  color='orange')\n",
    "plt.plot(X_test, regression.predict(X_test), color='blue', linewidth=3)\n",
    "plt.xticks(())\n",
    "plt.yticks(())\n",
    "\n",
    "plt.show()"
   ]
  },
  {
   "cell_type": "markdown",
   "metadata": {},
   "source": [
    "**SVM**\n",
    "\n",
    "\"Uma SVM (Support Vector Machine) é um classificador discriminativo formalmente definido por um hiperplano de separação. Em outras palavras, com dados de treinamento rotulados (aprendizado supervisionado), o algoritmo gera um hiperplano ideal que categoriza novos exemplos. No espaço bidimensional, esse hiperplano é uma linha que divide um plano em duas partes, onde cada classe fica em cada lado.\" - https://medium.com/machine-learning-101/chapter-2-svm-support-vector-machine-theory-f0812effc72\n"
   ]
  },
  {
   "cell_type": "code",
   "execution_count": 13,
   "metadata": {},
   "outputs": [
    {
     "name": "stdout",
     "output_type": "stream",
     "text": [
      "Precisão do modelo: 75.51745443311708 %\n"
     ]
    }
   ],
   "source": [
    "from sklearn.svm import SVC\n",
    "svm_class = SVC(gamma = 'auto')\n",
    "svm_class.fit(X_train, y_train)\n",
    "\n",
    "print(\"Precisão do modelo:\" ,svm_class.score(X_test, y_test)*100, \"%\")"
   ]
  },
  {
   "cell_type": "code",
   "execution_count": 14,
   "metadata": {},
   "outputs": [
    {
     "data": {
      "text/plain": [
       "array([[4878,    0],\n",
       "       [1585,   11]], dtype=int64)"
      ]
     },
     "execution_count": 14,
     "metadata": {},
     "output_type": "execute_result"
    }
   ],
   "source": [
    "from sklearn.metrics import confusion_matrix \n",
    "conf_matrix = confusion_matrix(y_test, svm_class.predict(X_test))\n",
    "conf_matrix"
   ]
  },
  {
   "cell_type": "code",
   "execution_count": 15,
   "metadata": {},
   "outputs": [
    {
     "data": {
      "image/png": "[encoded data removed]",
      "text/plain": [
       "<Figure size 432x288 with 2 Axes>"
      ]
     },
     "metadata": {},
     "output_type": "display_data"
    }
   ],
   "source": [
    "import seaborn as sns\n",
    "sns.set(font_scale=1.4)\n",
    "sns.heatmap(conf_matrix, annot = True, annot_kws = {\"size\": 16})\n",
    "\n",
    "plt.show()\n",
    "\n",
    "#Na primeira coluna, o valor da primeira linha representa o número de verdadeiros-positivos do Desfecho 0. \n",
    "#Na segunda linha da primeira coluna está o valor de falsos-negativos do Desfecho 1.\n",
    "#Na segunda coluna, o valor da primeira linha representa os falsos-positivos do Desfecho 0.\n",
    "#Na segunda linha da segunda coluna está o valor de verdadeiros-negativos do Desfecho 1.\n",
    "\n",
    "#Com isso concluímos que o algoritmo acerta da observações de teste 4878 classes do desfecho 0 e 11 classes do desfecho 1\n",
    "#sendo que no total, temos a classe 0 possui 4878 valores e a classe 1 possui 1596 valores."
   ]
  },
  {
   "cell_type": "markdown",
   "metadata": {},
   "source": [
    "**LDA - Linear Discriminant Analysis**\n",
    "\n",
    "\"“Linear Discriminant Analysis” é um algoritmo estatístico multivariado de extração de características. Sua extração diferencia duas ou mais classes de interesse, maximizando a distância entre as classes e minimizando a dispersão em cada grupo através da transformação linear.\" - https://fei.edu.br/~cet/sbai11_ElianaTenorio.pdf\n",
    "\n",
    "\n"
   ]
  },
  {
   "cell_type": "code",
   "execution_count": 16,
   "metadata": {},
   "outputs": [
    {
     "name": "stdout",
     "output_type": "stream",
     "text": [
      "Precisão do modelo: 75.33209762125425 %\n"
     ]
    }
   ],
   "source": [
    "from sklearn.discriminant_analysis import LinearDiscriminantAnalysis\n",
    "lda = LinearDiscriminantAnalysis()\n",
    "lda.fit(X_train, y_train)\n",
    "\n",
    "print(\"Precisão do modelo:\" ,lda.score(X_test, y_test)*100, \"%\")"
   ]
  },
  {
   "cell_type": "code",
   "execution_count": 24,
   "metadata": {},
   "outputs": [
    {
     "data": {
      "text/plain": [
       "(15103, 1)"
      ]
     },
     "execution_count": 24,
     "metadata": {},
     "output_type": "execute_result"
    }
   ],
   "source": [
    "lda_df = lda.transform(X_train)\n",
    "lda_df.shape"
   ]
  },
  {
   "cell_type": "code",
   "execution_count": 30,
   "metadata": {},
   "outputs": [
    {
     "data": {
      "text/plain": [
       "<matplotlib.collections.PathCollection at 0x1ad5c590ac8>"
      ]
     },
     "execution_count": 30,
     "metadata": {},
     "output_type": "execute_result"
    },
    {
     "data": {
      "image/png": "[encoded data removed]",
      "text/plain": [
       "<Figure size 432x288 with 1 Axes>"
      ]
     },
     "metadata": {},
     "output_type": "display_data"
    }
   ],
   "source": [
    "#Vizualiação da nuvem de pontos do LDAxClasse\n",
    "plt.scatter(lda_df, y_train)"
   ]
  },
  {
   "cell_type": "code",
   "execution_count": 31,
   "metadata": {},
   "outputs": [
    {
     "data": {
      "text/plain": [
       "array([[4877,    1],\n",
       "       [1596,    0]], dtype=int64)"
      ]
     },
     "execution_count": 31,
     "metadata": {},
     "output_type": "execute_result"
    }
   ],
   "source": [
    "conf_matrix = confusion_matrix(y_test,lda.predict(X_test))\n",
    "conf_matrix"
   ]
  },
  {
   "cell_type": "markdown",
   "metadata": {},
   "source": [
    "**Random Forest**\n",
    "\n",
    "Rodando o Random Forest novamente, mas apenas com a variável V8."
   ]
  },
  {
   "cell_type": "code",
   "execution_count": 17,
   "metadata": {},
   "outputs": [
    {
     "name": "stdout",
     "output_type": "stream",
     "text": [
      "Precisão do modelo: 81.75780043249922 %\n"
     ]
    }
   ],
   "source": [
    "from sklearn.ensemble import RandomForestClassifier\n",
    "random_forest = RandomForestClassifier()\n",
    "random_forest.fit(X_train, y_train)\n",
    "\n",
    "print(\"Precisão do modelo:\" ,random_forest.score(X_test, y_test)*100, \"%\")"
   ]
  },
  {
   "cell_type": "code",
   "execution_count": 18,
   "metadata": {},
   "outputs": [
    {
     "data": {
      "text/plain": [
       "array([[4418,  460],\n",
       "       [ 721,  875]], dtype=int64)"
      ]
     },
     "execution_count": 18,
     "metadata": {},
     "output_type": "execute_result"
    }
   ],
   "source": [
    "conf_matrix = confusion_matrix(y_test, random_forest.predict(X_test))\n",
    "conf_matrix"
   ]
  },
  {
   "cell_type": "code",
   "execution_count": 19,
   "metadata": {},
   "outputs": [
    {
     "data": {
      "image/png": "[encoded data removed]",
      "text/plain": [
       "<Figure size 432x288 with 2 Axes>"
      ]
     },
     "metadata": {},
     "output_type": "display_data"
    }
   ],
   "source": [
    "sns.set(font_scale=1.4)\n",
    "sns.heatmap(conf_matrix, annot = True, annot_kws = {\"size\": 16})\n",
    "\n",
    "plt.show()"
   ]
  },
  {
   "cell_type": "markdown",
   "metadata": {},
   "source": [
    "**Conclusão**"
   ]
  },
  {
   "cell_type": "markdown",
   "metadata": {},
   "source": [
    "1) e 2) O modelo estatísco escolhido foi o Random Forest, pois em comparação aos outros modelos, ele generalizou mais o problema. Generalizar um problema é acertar tanto os desfechos 0, quanto os desfechos 1.\n",
    "\n",
    "Optamos também por desenvolver a solução em Python, com o auxílio de uma de suas bibliotecas, o Scikit-Learn, pois achamos que ambas as ferramentas nos forneceriam resultados além do satisfatório, com pouca complexidade de implementação.\n",
    "\n",
    "3) Para obter-se a saída do modelo Random Forest, utiliza-se o método \"predict\" presente no modelo, onde sua entrada é um dado n-dimensional, sendo n = 1 por haver apenas uma variável.\n",
    "\n",
    "Um exemplo de como obter esta saída está na célula abaixo"
   ]
  },
  {
   "cell_type": "code",
   "execution_count": 37,
   "metadata": {},
   "outputs": [
    {
     "data": {
      "text/plain": [
       "array([0], dtype=int64)"
      ]
     },
     "execution_count": 37,
     "metadata": {},
     "output_type": "execute_result"
    }
   ],
   "source": [
    "random_forest.predict(X_test[0:1,:])"
   ]
  },
  {
   "cell_type": "markdown",
   "metadata": {},
   "source": [
    "Agora um exemplo obtendo o resultado total do teste:"
   ]
  },
  {
   "cell_type": "code",
   "execution_count": 39,
   "metadata": {},
   "outputs": [
    {
     "data": {
      "text/plain": [
       "array([0, 0, 0, ..., 0, 0, 0], dtype=int64)"
      ]
     },
     "execution_count": 39,
     "metadata": {},
     "output_type": "execute_result"
    }
   ],
   "source": [
    "random_forest.predict(X_test)"
   ]
  },
  {
   "cell_type": "code",
   "execution_count": 41,
   "metadata": {},
   "outputs": [],
   "source": [
    "dataframe = pd.DataFrame(random_forest.predict(X_test), columns = [\"Desfecho\"])\n",
    "dataframe.to_excel(\"AP_BD2_Processada.xlsx\", index = False)"
   ]
  }
 ],
 "metadata": {
  "kernelspec": {
   "display_name": "Python 3",
   "language": "python",
   "name": "python3"
  },
  "language_info": {
   "codemirror_mode": {
    "name": "ipython",
    "version": 3
   },
   "file_extension": ".py",
   "mimetype": "text/x-python",
   "name": "python",
   "nbconvert_exporter": "python",
   "pygments_lexer": "ipython3",
   "version": "3.7.4"
  }
 },
 "nbformat": 4,
 "nbformat_minor": 2
}
