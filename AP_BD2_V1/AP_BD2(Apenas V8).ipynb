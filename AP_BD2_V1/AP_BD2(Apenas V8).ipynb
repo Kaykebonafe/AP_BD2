{
 "cells": [
  {
   "cell_type": "markdown",
   "metadata": {},
   "source": [
    "**Pré Processamento dos dados (Utilizando apenas as colunas V7 e V8)**"
   ]
  },
  {
   "cell_type": "code",
   "execution_count": 6,
   "metadata": {},
   "outputs": [
    {
     "name": "stdout",
     "output_type": "stream",
     "text": [
      "Número de linhas e colunas no conjunto de treinamento: (21578, 10)\n"
     ]
    },
    {
     "data": {
      "text/html": [
       "<div>\n",
       "<style scoped>\n",
       "    .dataframe tbody tr th:only-of-type {\n",
       "        vertical-align: middle;\n",
       "    }\n",
       "\n",
       "    .dataframe tbody tr th {\n",
       "        vertical-align: top;\n",
       "    }\n",
       "\n",
       "    .dataframe thead th {\n",
       "        text-align: right;\n",
       "    }\n",
       "</style>\n",
       "<table border=\"1\" class=\"dataframe\">\n",
       "  <thead>\n",
       "    <tr style=\"text-align: right;\">\n",
       "      <th></th>\n",
       "      <th>V1</th>\n",
       "      <th>V2</th>\n",
       "      <th>V3</th>\n",
       "      <th>V4</th>\n",
       "      <th>V5</th>\n",
       "      <th>V6</th>\n",
       "      <th>V7</th>\n",
       "      <th>V8</th>\n",
       "      <th>V9</th>\n",
       "      <th>Desfecho</th>\n",
       "    </tr>\n",
       "  </thead>\n",
       "  <tbody>\n",
       "    <tr>\n",
       "      <td>0</td>\n",
       "      <td>2.57</td>\n",
       "      <td>492</td>\n",
       "      <td>2</td>\n",
       "      <td>59</td>\n",
       "      <td>15633</td>\n",
       "      <td>0.91</td>\n",
       "      <td>119.3</td>\n",
       "      <td>0.07</td>\n",
       "      <td>1</td>\n",
       "      <td>1</td>\n",
       "    </tr>\n",
       "    <tr>\n",
       "      <td>1</td>\n",
       "      <td>2.57</td>\n",
       "      <td>492</td>\n",
       "      <td>2</td>\n",
       "      <td>59</td>\n",
       "      <td>15633</td>\n",
       "      <td>0.91</td>\n",
       "      <td>119.3</td>\n",
       "      <td>0.07</td>\n",
       "      <td>1</td>\n",
       "      <td>1</td>\n",
       "    </tr>\n",
       "    <tr>\n",
       "      <td>2</td>\n",
       "      <td>2.57</td>\n",
       "      <td>492</td>\n",
       "      <td>2</td>\n",
       "      <td>59</td>\n",
       "      <td>15633</td>\n",
       "      <td>0.91</td>\n",
       "      <td>119.3</td>\n",
       "      <td>0.06</td>\n",
       "      <td>1</td>\n",
       "      <td>1</td>\n",
       "    </tr>\n",
       "    <tr>\n",
       "      <td>3</td>\n",
       "      <td>2.57</td>\n",
       "      <td>492</td>\n",
       "      <td>2</td>\n",
       "      <td>59</td>\n",
       "      <td>15633</td>\n",
       "      <td>0.91</td>\n",
       "      <td>119.3</td>\n",
       "      <td>0.06</td>\n",
       "      <td>1</td>\n",
       "      <td>1</td>\n",
       "    </tr>\n",
       "    <tr>\n",
       "      <td>4</td>\n",
       "      <td>2.57</td>\n",
       "      <td>492</td>\n",
       "      <td>2</td>\n",
       "      <td>59</td>\n",
       "      <td>15633</td>\n",
       "      <td>0.91</td>\n",
       "      <td>119.3</td>\n",
       "      <td>0.05</td>\n",
       "      <td>1</td>\n",
       "      <td>1</td>\n",
       "    </tr>\n",
       "    <tr>\n",
       "      <td>5</td>\n",
       "      <td>2.57</td>\n",
       "      <td>492</td>\n",
       "      <td>2</td>\n",
       "      <td>59</td>\n",
       "      <td>15633</td>\n",
       "      <td>0.91</td>\n",
       "      <td>119.3</td>\n",
       "      <td>0.08</td>\n",
       "      <td>1</td>\n",
       "      <td>1</td>\n",
       "    </tr>\n",
       "    <tr>\n",
       "      <td>6</td>\n",
       "      <td>2.57</td>\n",
       "      <td>492</td>\n",
       "      <td>2</td>\n",
       "      <td>59</td>\n",
       "      <td>15633</td>\n",
       "      <td>0.91</td>\n",
       "      <td>119.3</td>\n",
       "      <td>0.07</td>\n",
       "      <td>1</td>\n",
       "      <td>1</td>\n",
       "    </tr>\n",
       "    <tr>\n",
       "      <td>7</td>\n",
       "      <td>2.57</td>\n",
       "      <td>492</td>\n",
       "      <td>2</td>\n",
       "      <td>59</td>\n",
       "      <td>15633</td>\n",
       "      <td>0.91</td>\n",
       "      <td>119.3</td>\n",
       "      <td>0.04</td>\n",
       "      <td>1</td>\n",
       "      <td>1</td>\n",
       "    </tr>\n",
       "    <tr>\n",
       "      <td>8</td>\n",
       "      <td>2.57</td>\n",
       "      <td>492</td>\n",
       "      <td>2</td>\n",
       "      <td>59</td>\n",
       "      <td>15633</td>\n",
       "      <td>0.91</td>\n",
       "      <td>119.3</td>\n",
       "      <td>0.07</td>\n",
       "      <td>1</td>\n",
       "      <td>1</td>\n",
       "    </tr>\n",
       "    <tr>\n",
       "      <td>9</td>\n",
       "      <td>2.57</td>\n",
       "      <td>492</td>\n",
       "      <td>2</td>\n",
       "      <td>59</td>\n",
       "      <td>15633</td>\n",
       "      <td>0.91</td>\n",
       "      <td>119.3</td>\n",
       "      <td>0.06</td>\n",
       "      <td>1</td>\n",
       "      <td>1</td>\n",
       "    </tr>\n",
       "  </tbody>\n",
       "</table>\n",
       "</div>"
      ],
      "text/plain": [
       "     V1   V2  V3  V4     V5    V6     V7    V8  V9  Desfecho\n",
       "0  2.57  492   2  59  15633  0.91  119.3  0.07   1         1\n",
       "1  2.57  492   2  59  15633  0.91  119.3  0.07   1         1\n",
       "2  2.57  492   2  59  15633  0.91  119.3  0.06   1         1\n",
       "3  2.57  492   2  59  15633  0.91  119.3  0.06   1         1\n",
       "4  2.57  492   2  59  15633  0.91  119.3  0.05   1         1\n",
       "5  2.57  492   2  59  15633  0.91  119.3  0.08   1         1\n",
       "6  2.57  492   2  59  15633  0.91  119.3  0.07   1         1\n",
       "7  2.57  492   2  59  15633  0.91  119.3  0.04   1         1\n",
       "8  2.57  492   2  59  15633  0.91  119.3  0.07   1         1\n",
       "9  2.57  492   2  59  15633  0.91  119.3  0.06   1         1"
      ]
     },
     "execution_count": 6,
     "metadata": {},
     "output_type": "execute_result"
    }
   ],
   "source": [
    "import random\n",
    "random.seed(42)\n",
    "import pandas as pd\n",
    "import numpy as np\n",
    "from sklearn.linear_model import LinearRegression, Lasso, Ridge\n",
    "from sklearn.preprocessing import PolynomialFeatures\n",
    "from sklearn.model_selection import train_test_split\n",
    "from sklearn.metrics import r2_score, mean_squared_error\n",
    "import matplotlib.pyplot as plt\n",
    "import seaborn as sns\n",
    "sns.set()\n",
    "train = pd.read_excel('AP_BD2.xlsx', header=(0))\n",
    "print(\"Número de linhas e colunas no conjunto de treinamento:\", train.shape)\n",
    "attributes = list(train.columns)\n",
    "train.head(10)"
   ]
  },
  {
   "cell_type": "markdown",
   "metadata": {},
   "source": [
    "**Verificação e remoção de linhas vazias**"
   ]
  },
  {
   "cell_type": "code",
   "execution_count": 7,
   "metadata": {},
   "outputs": [
    {
     "name": "stdout",
     "output_type": "stream",
     "text": [
      "Número de linhas e colunas: (21577, 10)\n"
     ]
    },
    {
     "data": {
      "text/html": [
       "<div>\n",
       "<style scoped>\n",
       "    .dataframe tbody tr th:only-of-type {\n",
       "        vertical-align: middle;\n",
       "    }\n",
       "\n",
       "    .dataframe tbody tr th {\n",
       "        vertical-align: top;\n",
       "    }\n",
       "\n",
       "    .dataframe thead th {\n",
       "        text-align: right;\n",
       "    }\n",
       "</style>\n",
       "<table border=\"1\" class=\"dataframe\">\n",
       "  <thead>\n",
       "    <tr style=\"text-align: right;\">\n",
       "      <th></th>\n",
       "      <th>V1</th>\n",
       "      <th>V2</th>\n",
       "      <th>V3</th>\n",
       "      <th>V4</th>\n",
       "      <th>V5</th>\n",
       "      <th>V6</th>\n",
       "      <th>V7</th>\n",
       "      <th>V8</th>\n",
       "      <th>V9</th>\n",
       "      <th>Desfecho</th>\n",
       "    </tr>\n",
       "  </thead>\n",
       "  <tbody>\n",
       "    <tr>\n",
       "      <td>0</td>\n",
       "      <td>2.57</td>\n",
       "      <td>492</td>\n",
       "      <td>2</td>\n",
       "      <td>59</td>\n",
       "      <td>15633</td>\n",
       "      <td>0.91</td>\n",
       "      <td>119.3</td>\n",
       "      <td>0.07</td>\n",
       "      <td>1</td>\n",
       "      <td>1</td>\n",
       "    </tr>\n",
       "    <tr>\n",
       "      <td>1</td>\n",
       "      <td>2.57</td>\n",
       "      <td>492</td>\n",
       "      <td>2</td>\n",
       "      <td>59</td>\n",
       "      <td>15633</td>\n",
       "      <td>0.91</td>\n",
       "      <td>119.3</td>\n",
       "      <td>0.07</td>\n",
       "      <td>1</td>\n",
       "      <td>1</td>\n",
       "    </tr>\n",
       "    <tr>\n",
       "      <td>2</td>\n",
       "      <td>2.57</td>\n",
       "      <td>492</td>\n",
       "      <td>2</td>\n",
       "      <td>59</td>\n",
       "      <td>15633</td>\n",
       "      <td>0.91</td>\n",
       "      <td>119.3</td>\n",
       "      <td>0.06</td>\n",
       "      <td>1</td>\n",
       "      <td>1</td>\n",
       "    </tr>\n",
       "    <tr>\n",
       "      <td>3</td>\n",
       "      <td>2.57</td>\n",
       "      <td>492</td>\n",
       "      <td>2</td>\n",
       "      <td>59</td>\n",
       "      <td>15633</td>\n",
       "      <td>0.91</td>\n",
       "      <td>119.3</td>\n",
       "      <td>0.06</td>\n",
       "      <td>1</td>\n",
       "      <td>1</td>\n",
       "    </tr>\n",
       "    <tr>\n",
       "      <td>4</td>\n",
       "      <td>2.57</td>\n",
       "      <td>492</td>\n",
       "      <td>2</td>\n",
       "      <td>59</td>\n",
       "      <td>15633</td>\n",
       "      <td>0.91</td>\n",
       "      <td>119.3</td>\n",
       "      <td>0.05</td>\n",
       "      <td>1</td>\n",
       "      <td>1</td>\n",
       "    </tr>\n",
       "    <tr>\n",
       "      <td>5</td>\n",
       "      <td>2.57</td>\n",
       "      <td>492</td>\n",
       "      <td>2</td>\n",
       "      <td>59</td>\n",
       "      <td>15633</td>\n",
       "      <td>0.91</td>\n",
       "      <td>119.3</td>\n",
       "      <td>0.08</td>\n",
       "      <td>1</td>\n",
       "      <td>1</td>\n",
       "    </tr>\n",
       "    <tr>\n",
       "      <td>6</td>\n",
       "      <td>2.57</td>\n",
       "      <td>492</td>\n",
       "      <td>2</td>\n",
       "      <td>59</td>\n",
       "      <td>15633</td>\n",
       "      <td>0.91</td>\n",
       "      <td>119.3</td>\n",
       "      <td>0.07</td>\n",
       "      <td>1</td>\n",
       "      <td>1</td>\n",
       "    </tr>\n",
       "    <tr>\n",
       "      <td>7</td>\n",
       "      <td>2.57</td>\n",
       "      <td>492</td>\n",
       "      <td>2</td>\n",
       "      <td>59</td>\n",
       "      <td>15633</td>\n",
       "      <td>0.91</td>\n",
       "      <td>119.3</td>\n",
       "      <td>0.04</td>\n",
       "      <td>1</td>\n",
       "      <td>1</td>\n",
       "    </tr>\n",
       "    <tr>\n",
       "      <td>8</td>\n",
       "      <td>2.57</td>\n",
       "      <td>492</td>\n",
       "      <td>2</td>\n",
       "      <td>59</td>\n",
       "      <td>15633</td>\n",
       "      <td>0.91</td>\n",
       "      <td>119.3</td>\n",
       "      <td>0.07</td>\n",
       "      <td>1</td>\n",
       "      <td>1</td>\n",
       "    </tr>\n",
       "    <tr>\n",
       "      <td>9</td>\n",
       "      <td>2.57</td>\n",
       "      <td>492</td>\n",
       "      <td>2</td>\n",
       "      <td>59</td>\n",
       "      <td>15633</td>\n",
       "      <td>0.91</td>\n",
       "      <td>119.3</td>\n",
       "      <td>0.06</td>\n",
       "      <td>1</td>\n",
       "      <td>1</td>\n",
       "    </tr>\n",
       "  </tbody>\n",
       "</table>\n",
       "</div>"
      ],
      "text/plain": [
       "     V1   V2  V3  V4     V5    V6     V7    V8  V9  Desfecho\n",
       "0  2.57  492   2  59  15633  0.91  119.3  0.07   1         1\n",
       "1  2.57  492   2  59  15633  0.91  119.3  0.07   1         1\n",
       "2  2.57  492   2  59  15633  0.91  119.3  0.06   1         1\n",
       "3  2.57  492   2  59  15633  0.91  119.3  0.06   1         1\n",
       "4  2.57  492   2  59  15633  0.91  119.3  0.05   1         1\n",
       "5  2.57  492   2  59  15633  0.91  119.3  0.08   1         1\n",
       "6  2.57  492   2  59  15633  0.91  119.3  0.07   1         1\n",
       "7  2.57  492   2  59  15633  0.91  119.3  0.04   1         1\n",
       "8  2.57  492   2  59  15633  0.91  119.3  0.07   1         1\n",
       "9  2.57  492   2  59  15633  0.91  119.3  0.06   1         1"
      ]
     },
     "execution_count": 7,
     "metadata": {},
     "output_type": "execute_result"
    }
   ],
   "source": [
    "train.isnull().sum().sort_values(ascending=False).head(10)\n",
    "# remove as linhas com NaN\n",
    "train=train.dropna() \n",
    "print(\"Número de linhas e colunas:\",train.shape)\n",
    "train.head(10)"
   ]
  },
  {
   "cell_type": "markdown",
   "metadata": {},
   "source": [
    "**Mantendo apenas a V8 e o Desfecho**"
   ]
  },
  {
   "cell_type": "code",
   "execution_count": 8,
   "metadata": {},
   "outputs": [
    {
     "data": {
      "text/html": [
       "<div>\n",
       "<style scoped>\n",
       "    .dataframe tbody tr th:only-of-type {\n",
       "        vertical-align: middle;\n",
       "    }\n",
       "\n",
       "    .dataframe tbody tr th {\n",
       "        vertical-align: top;\n",
       "    }\n",
       "\n",
       "    .dataframe thead th {\n",
       "        text-align: right;\n",
       "    }\n",
       "</style>\n",
       "<table border=\"1\" class=\"dataframe\">\n",
       "  <thead>\n",
       "    <tr style=\"text-align: right;\">\n",
       "      <th></th>\n",
       "      <th>V8</th>\n",
       "      <th>Desfecho</th>\n",
       "    </tr>\n",
       "  </thead>\n",
       "  <tbody>\n",
       "    <tr>\n",
       "      <td>V8</td>\n",
       "      <td>1.000000</td>\n",
       "      <td>0.020011</td>\n",
       "    </tr>\n",
       "    <tr>\n",
       "      <td>Desfecho</td>\n",
       "      <td>0.020011</td>\n",
       "      <td>1.000000</td>\n",
       "    </tr>\n",
       "  </tbody>\n",
       "</table>\n",
       "</div>"
      ],
      "text/plain": [
       "                V8  Desfecho\n",
       "V8        1.000000  0.020011\n",
       "Desfecho  0.020011  1.000000"
      ]
     },
     "execution_count": 8,
     "metadata": {},
     "output_type": "execute_result"
    }
   ],
   "source": [
    "train = train.drop([\"V1\", \"V2\", \"V3\", \"V4\", \"V5\", \"V6\", \"V7\", \"V9\"], axis = 1)\n",
    "#Correlação entre as colunas\n",
    "train.corr()"
   ]
  },
  {
   "cell_type": "markdown",
   "metadata": {},
   "source": [
    "**Determinação do coeficiente de correlação**"
   ]
  },
  {
   "cell_type": "code",
   "execution_count": 9,
   "metadata": {},
   "outputs": [
    {
     "data": {
      "image/png": "[encoded data removed]",
      "text/plain": [
       "<Figure size 720x576 with 2 Axes>"
      ]
     },
     "metadata": {},
     "output_type": "display_data"
    }
   ],
   "source": [
    "corr = train.corr()\n",
    "#Plot Correlation Matrix using Matplotlib\n",
    "plt.figure(figsize=(10, 8))\n",
    "plt.imshow(corr, cmap='Greens', interpolation='none', aspect='auto')\n",
    "plt.colorbar()\n",
    "plt.xticks(range(len(corr)), corr.columns, rotation='vertical')\n",
    "plt.yticks(range(len(corr)), corr.columns);\n",
    "plt.suptitle('Correlação entre as variáveis', fontsize=15, fontweight='bold')\n",
    "plt.grid(False)\n",
    "plt.show()"
   ]
  },
  {
   "cell_type": "code",
   "execution_count": 10,
   "metadata": {},
   "outputs": [
    {
     "data": {
      "image/png": "[encoded data removed]",
      "text/plain": [
       "<Figure size 432x288 with 1 Axes>"
      ]
     },
     "metadata": {},
     "output_type": "display_data"
    }
   ],
   "source": [
    "classes = train[train.columns[-1]]\n",
    "\n",
    "cl = np.unique(classes)\n",
    "ncl = np.zeros(len(cl))\n",
    "for i in np.arange(0, len(cl)):\n",
    "    a = classes == cl[i]\n",
    "    ncl[i] = len(classes[a])\n",
    "    \n",
    "numbers = np.arange(0, len(cl))\n",
    "plt.bar(numbers, ncl,  alpha=.75)\n",
    "plt.xticks(numbers, cl)\n",
    "plt.title('Número de elementos em cada classe')\n",
    "plt.show(True)"
   ]
  },
  {
   "cell_type": "code",
   "execution_count": 11,
   "metadata": {},
   "outputs": [
    {
     "data": {
      "text/plain": [
       "<matplotlib.axes._subplots.AxesSubplot at 0x1e7f1a7d1c8>"
      ]
     },
     "execution_count": 11,
     "metadata": {},
     "output_type": "execute_result"
    },
    {
     "data": {
      "image/png": "[encoded data removed]",
      "text/plain": [
       "<Figure size 432x288 with 1 Axes>"
      ]
     },
     "metadata": {},
     "output_type": "display_data"
    }
   ],
   "source": [
    "import seaborn as sns\n",
    "sns.set()\n",
    "sns.countplot(train['Desfecho'])"
   ]
  },
  {
   "cell_type": "markdown",
   "metadata": {},
   "source": [
    "**Divisão dos dados em conjunto de dados em conjunto de teste e treino**"
   ]
  },
  {
   "cell_type": "code",
   "execution_count": 12,
   "metadata": {},
   "outputs": [],
   "source": [
    "train = train.to_numpy()\n",
    "nrow,ncol = train.shape\n",
    "y = train[:,-1]\n",
    "X = train[:,0:ncol-1]\n",
    "\n",
    "# divide o conjunto em treinamento e teste\n",
    "X_train, X_test, y_train, y_test = train_test_split(X, y, test_size=0.2, random_state=42)"
   ]
  },
  {
   "cell_type": "markdown",
   "metadata": {},
   "source": [
    "**Normalização dos dados**"
   ]
  },
  {
   "cell_type": "code",
   "execution_count": 13,
   "metadata": {},
   "outputs": [
    {
     "name": "stdout",
     "output_type": "stream",
     "text": [
      "Dados transformados:\n",
      "Media:  [0.]\n",
      "Desvio Padrao: [1.]\n"
     ]
    }
   ],
   "source": [
    "from sklearn.preprocessing import StandardScaler\n",
    "scaler = StandardScaler().fit(X)\n",
    "\n",
    "X = scaler.transform(X)\n",
    "X_test = scaler.transform(X_test)\n",
    "\n",
    "print('Dados transformados:')\n",
    "print('Media: ', np.mean(X, axis = 0))\n",
    "print('Desvio Padrao:', np.std(X, axis = 0))"
   ]
  },
  {
   "cell_type": "markdown",
   "metadata": {},
   "source": [
    "**Determinação do número de componente por meio do PCA**"
   ]
  },
  {
   "cell_type": "code",
   "execution_count": null,
   "metadata": {},
   "outputs": [],
   "source": [
    "from sklearn.decomposition import PCA\n",
    "pca = PCA().fit(X)\n",
    "plt.figure(figsize=(8,5))\n",
    "ncomp = np.arange(1, np.shape(X)[1]+1)\n",
    "plt.plot(ncomp, np.cumsum(pca.explained_variance_ratio_), 'ro-')\n",
    "plt.xlabel('number of components', fontsize=20)\n",
    "plt.ylabel('cumulative explained variance', fontsize=20);\n",
    "plt.xticks(color='k', size=20)\n",
    "plt.yticks(color='k', size=20)\n",
    "plt.grid(True)\n",
    "plt.show(True)"
   ]
  },
  {
   "cell_type": "markdown",
   "metadata": {},
   "source": [
    "**Classificação de dados**"
   ]
  },
  {
   "cell_type": "markdown",
   "metadata": {},
   "source": [
    "KNeighbors"
   ]
  },
  {
   "cell_type": "code",
   "execution_count": 14,
   "metadata": {},
   "outputs": [
    {
     "name": "stdout",
     "output_type": "stream",
     "text": [
      "k: 1 accurace: 0.7075059757934643\n",
      "k: 2 accurace: 0.7545334485034761\n",
      "k: 3 accurace: 0.7812994997548607\n",
      "k: 4 accurace: 0.7853558747343486\n",
      "k: 5 accurace: 0.8077164163427506\n",
      "k: 6 accurace: 0.7883687048627506\n",
      "k: 7 accurace: 0.8064996464692733\n",
      "k: 8 accurace: 0.8126997566057559\n",
      "k: 9 accurace: 0.8066735426463427\n",
      "k: 10 accurace: 0.7956108833100275\n",
      "k: 11 accurace: 0.8027345190623029\n",
      "k: 12 accurace: 0.8125838817505995\n",
      "k: 13 accurace: 0.8036615179035544\n",
      "k: 14 accurace: 0.8115410080541917\n",
      "k: 15 accurace: 0.8062679806532953\n",
      "k: 16 accurace: 0.8139157210936198\n",
      "k: 17 accurace: 0.813973658521198\n",
      "k: 18 accurace: 0.8149006573624493\n",
      "k: 19 accurace: 0.8138577836660416\n",
      "Melhor k: 18\n"
     ]
    },
    {
     "data": {
      "image/png": "[encoded data removed]",
      "text/plain": [
       "<Figure size 720x360 with 1 Axes>"
      ]
     },
     "metadata": {},
     "output_type": "display_data"
    }
   ],
   "source": [
    "from sklearn.model_selection import cross_validate\n",
    "from sklearn.neighbors import KNeighborsClassifier\n",
    "random.seed(42) # define the seed (important to reproduce the results)\n",
    "\n",
    "nkf = 5 #número de folds\n",
    "vk = []\n",
    "vscore = []\n",
    "for k in range(1, 20):\n",
    "    model = KNeighborsClassifier(n_neighbors=k, metric = 'euclidean')\n",
    "    cv = cross_validate(model, X_train, y_train, cv=nkf)\n",
    "    print('k:', k, 'accurace:', cv['test_score'].mean())\n",
    "    vscore.append(cv['test_score'].mean())\n",
    "    vk.append(k)\n",
    "\n",
    "best_k = np.argmax(vscore)+1\n",
    "print('Melhor k:', best_k)\n",
    "plt.figure(figsize=(10,5))\n",
    "plt.plot(vk, vscore, '-bo')\n",
    "plt.xlabel('k', fontsize = 15)\n",
    "plt.ylabel('Accuracy', fontsize = 15)\n",
    "plt.show()"
   ]
  },
  {
   "cell_type": "markdown",
   "metadata": {},
   "source": [
    "Acurácia da amostra obtida pelo melhor K"
   ]
  },
  {
   "cell_type": "code",
   "execution_count": 15,
   "metadata": {},
   "outputs": [
    {
     "name": "stdout",
     "output_type": "stream",
     "text": [
      "Accuracy: 0.7555607043558851\n"
     ]
    }
   ],
   "source": [
    "from sklearn.metrics import accuracy_score\n",
    "model = KNeighborsClassifier(n_neighbors=best_k, metric = 'euclidean')\n",
    "model.fit(X_train, y_train)\n",
    "y_pred = model.predict(X_test)\n",
    "print('Accuracy:', accuracy_score(y_pred, y_test))"
   ]
  },
  {
   "cell_type": "markdown",
   "metadata": {},
   "source": [
    "Árvore de Decisão"
   ]
  },
  {
   "cell_type": "code",
   "execution_count": 16,
   "metadata": {},
   "outputs": [
    {
     "name": "stdout",
     "output_type": "stream",
     "text": [
      "Accuracy: 0.7504633920296571\n"
     ]
    }
   ],
   "source": [
    "from sklearn import tree\n",
    "from sklearn.metrics import accuracy_score\n",
    "np.random.seed(42) # define the seed (important to reproduce the results)\n",
    "model = tree.DecisionTreeClassifier(criterion = 'entropy',random_state = 101)\n",
    "model.fit(X_train,y_train)\n",
    "y_pred = model.predict(X_test) \n",
    "\n",
    "score = accuracy_score(y_pred, y_test)\n",
    "print('Accuracy:', score)"
   ]
  },
  {
   "cell_type": "markdown",
   "metadata": {},
   "source": [
    "Gaussian Naive Bayes"
   ]
  },
  {
   "cell_type": "code",
   "execution_count": 17,
   "metadata": {},
   "outputs": [
    {
     "name": "stdout",
     "output_type": "stream",
     "text": [
      "Accuracy:  0.7555607043558851\n"
     ]
    }
   ],
   "source": [
    "from sklearn.naive_bayes import GaussianNB\n",
    "from sklearn import metrics\n",
    "np.random.seed(42) # define the seed (important to reproduce the results)\n",
    "model = GaussianNB()\n",
    "model.fit(X_train, y_train)\n",
    "\n",
    "y_pred = model.predict(X_test)\n",
    "print('Accuracy: ', model.score(X_test, y_test))"
   ]
  },
  {
   "cell_type": "markdown",
   "metadata": {},
   "source": [
    "SVM com melhor valor de C por validação cruzada"
   ]
  },
  {
   "cell_type": "code",
   "execution_count": 19,
   "metadata": {},
   "outputs": [
    {
     "name": "stdout",
     "output_type": "stream",
     "text": [
      "c: 1 accurace: 0.749608957554265\n",
      "c: 2 accurace: 0.7502462558881966\n",
      "c: 3 accurace: 0.7501883453021415\n",
      "c: 4 accurace: 0.7501883453021415\n",
      "c: 5 accurace: 0.7501883453021415\n",
      "c: 6 accurace: 0.7501883453021415\n",
      "c: 7 accurace: 0.7501883453021415\n",
      "c: 8 accurace: 0.7501883453021415\n",
      "c: 9 accurace: 0.7501883453021415\n",
      "c: 10 accurace: 0.7501883453021415\n",
      "c: 11 accurace: 0.7501883453021415\n",
      "c: 12 accurace: 0.750072443586796\n",
      "c: 13 accurace: 0.750072443586796\n",
      "c: 14 accurace: 0.7498407609849558\n",
      "c: 15 accurace: 0.7498407609849558\n",
      "c: 16 accurace: 0.7498986916998208\n",
      "c: 17 accurace: 0.7498986916998208\n",
      "c: 18 accurace: 0.7498986916998208\n",
      "c: 19 accurace: 0.7498986916998208\n",
      "Melhor C: 2\n"
     ]
    },
    {
     "data": {
      "image/png": "[encoded data removed]",
      "text/plain": [
       "<Figure size 720x360 with 1 Axes>"
      ]
     },
     "metadata": {},
     "output_type": "display_data"
    }
   ],
   "source": [
    "from sklearn.model_selection import cross_validate\n",
    "from sklearn.svm import SVC\n",
    "from sklearn.model_selection import StratifiedKFold\n",
    "from sklearn.model_selection import KFold\n",
    "from sklearn.metrics import accuracy_score\n",
    "from sklearn.metrics import precision_score\n",
    "from sklearn.metrics import roc_auc_score\n",
    "nkf = 6\n",
    "vk = []\n",
    "vscore = []\n",
    "for c in range(1, 20):\n",
    "    model = SVC(C = c, gamma = 'auto')\n",
    "    cv = cross_validate(model, X_train, y_train, cv=nkf)\n",
    "    print('c:', c, 'accurace:', cv['test_score'].mean())\n",
    "    vscore.append(cv['test_score'].mean())\n",
    "    vk.append(c)\n",
    "\n",
    "best_c = np.argmax(vscore)+1\n",
    "print('Melhor C:', best_c)\n",
    "plt.figure(figsize=(10,5))\n",
    "plt.plot(vk, vscore, '-bo')\n",
    "plt.xlabel('c', fontsize = 15)\n",
    "plt.ylabel('Accuracy', fontsize = 15)\n",
    "plt.show()"
   ]
  },
  {
   "cell_type": "markdown",
   "metadata": {},
   "source": [
    "Acurácia da amostra com o melhor C"
   ]
  },
  {
   "cell_type": "code",
   "execution_count": 20,
   "metadata": {},
   "outputs": [
    {
     "name": "stdout",
     "output_type": "stream",
     "text": [
      "Accuracy: 0.7555607043558851\n"
     ]
    }
   ],
   "source": [
    "from sklearn.metrics import accuracy_score\n",
    "model = SVC(C = best_c, gamma = 'auto')\n",
    "model.fit(X_train, y_train)\n",
    "y_pred = model.predict(X_test)\n",
    "print('Accuracy:', accuracy_score(y_pred, y_test))"
   ]
  },
  {
   "cell_type": "markdown",
   "metadata": {},
   "source": [
    "Random Forest"
   ]
  },
  {
   "cell_type": "code",
   "execution_count": 21,
   "metadata": {},
   "outputs": [
    {
     "name": "stdout",
     "output_type": "stream",
     "text": [
      "Number of Estimators: 1 Accuracy: 0.5\n",
      "Number of Estimators: 11 Accuracy: 0.5\n",
      "Number of Estimators: 21 Accuracy: 0.5\n",
      "Number of Estimators: 31 Accuracy: 0.5\n",
      "Number of Estimators: 41 Accuracy: 0.5\n",
      "Number of Estimators: 51 Accuracy: 0.5\n",
      "Number of Estimators: 61 Accuracy: 0.5\n",
      "Number of Estimators: 71 Accuracy: 0.5\n",
      "Number of Estimators: 81 Accuracy: 0.5\n",
      "Number of Estimators: 91 Accuracy: 0.5\n",
      "Melhor n: 1  com acurácia: 0.5\n"
     ]
    },
    {
     "data": {
      "image/png": "[encoded data removed]",
      "text/plain": [
       "<Figure size 720x360 with 1 Axes>"
      ]
     },
     "metadata": {},
     "output_type": "display_data"
    }
   ],
   "source": [
    "from sklearn.ensemble import RandomForestClassifier\n",
    "np.random.seed(42) # define the seed (important to reproduce the results)\n",
    "# define os parâmetros do modelo\n",
    "vscore = []\n",
    "vn = []\n",
    "for n in range(1,100,10):\n",
    "    model = RandomForestClassifier(n_estimators=n)\n",
    "    model.fit(X_train,y_train)\n",
    "    y_pred = model.predict(X_test) \n",
    "    score = precision_score(y_pred, y_test, average='macro')\n",
    "    print('Number of Estimators:', n, 'Accuracy:', score)\n",
    "    vscore.append(score)\n",
    "    vn.append(n)\n",
    "best_n = vn[np.argmax(vscore)]\n",
    "print('Melhor n:', best_n, ' com acurácia:', vscore[np.argmax(vscore)] )\n",
    "plt.figure(figsize=(10,5))\n",
    "plt.plot(vn, vscore, '-bo')\n",
    "plt.xlabel('Number of Estimators', fontsize = 15)\n",
    "plt.ylabel('Accuracy', fontsize = 15)\n",
    "plt.show()"
   ]
  },
  {
   "cell_type": "markdown",
   "metadata": {},
   "source": [
    "Ordenação dos atributos Random Forest"
   ]
  },
  {
   "cell_type": "code",
   "execution_count": 23,
   "metadata": {},
   "outputs": [
    {
     "data": {
      "image/png": "[encoded data removed]",
      "text/plain": [
       "<Figure size 864x576 with 1 Axes>"
      ]
     },
     "metadata": {},
     "output_type": "display_data"
    }
   ],
   "source": [
    "import random\n",
    "random.seed(42)\n",
    "import pandas as pd\n",
    "import numpy as np\n",
    "from sklearn.linear_model import LinearRegression, Lasso, Ridge\n",
    "from sklearn.preprocessing import PolynomialFeatures\n",
    "from sklearn.model_selection import train_test_split\n",
    "from sklearn.metrics import r2_score, mean_squared_error\n",
    "import matplotlib.pyplot as plt\n",
    "import seaborn as sns\n",
    "sns.set()\n",
    "train = pd.read_excel('AP_BD2.xlsx', header=(0))\n",
    "importances = model.feature_importances_\n",
    "indices = np.argsort(importances)\n",
    "\n",
    "features_names = train.columns\n",
    "lmeas_order = []\n",
    "for i in indices:\n",
    "    lmeas_order.append(features_names[i])\n",
    "plt.figure(figsize=(12,8))\n",
    "plt.barh(range(len(indices)), importances[indices], color='g', align='center')\n",
    "plt.yticks(range(len(indices)), lmeas_order, fontsize=15)\n",
    "plt.xlabel('Relative Importance',fontsize=15)\n",
    "plt.xticks(color='k', size=20)\n",
    "plt.yticks(color='k', size=20)\n",
    "plt.show()"
   ]
  },
  {
   "cell_type": "markdown",
   "metadata": {},
   "source": [
    "**Regressão Linear**"
   ]
  },
  {
   "cell_type": "code",
   "execution_count": 14,
   "metadata": {},
   "outputs": [
    {
     "name": "stdout",
     "output_type": "stream",
     "text": [
      "     V8  Desfecho\n",
      "0  0.07         1\n",
      "1  0.07         1\n",
      "2  0.06         1\n",
      "3  0.06         1\n",
      "4  0.05         1\n",
      "5  0.08         1\n",
      "6  0.07         1\n",
      "7  0.04         1\n",
      "8  0.07         1\n",
      "9  0.06         1\n"
     ]
    }
   ],
   "source": [
    "import pandas as pd\n",
    "import numpy as np\n",
    "import matplotlib.pyplot as plt\n",
    "from sklearn.preprocessing import StandardScaler\n",
    "from sklearn.linear_model import LogisticRegression\n",
    "from sklearn import metrics\n",
    "np.random.seed(42) # define the seed (important to reproduce the results)\n",
    "data = pd.read_excel('AP_BD2.xlsx', header=(0))\n",
    "data = data.dropna(axis='rows') #remove NaN\n",
    "dataf = data[['V1','V2','V3','V4','V5','V6','V7','V8','V9','Desfecho']]\n",
    "dataf = dataf.drop([\"V1\", \"V2\", \"V3\", \"V4\", \"V5\", \"V6\", \"V7\", \"V9\"], axis = 1)\n",
    "print(dataf.head(10))\n",
    "dataf = dataf.to_numpy()\n",
    "nrow,ncol = dataf.shape\n",
    "y = dataf[:,-1]\n",
    "X = dataf[:,0:ncol-1]\n",
    "\n",
    "scaler = StandardScaler().fit(X)\n",
    "X = scaler.transform(X)\n",
    "\n",
    "from sklearn.model_selection import train_test_split\n",
    "p = 0.2 # fraction of elements in the test set\n",
    "x_train, x_test, y_train, y_test = train_test_split(X, y, test_size = p, random_state = 42)\n"
   ]
  },
  {
   "cell_type": "markdown",
   "metadata": {},
   "source": [
    "**Cálculo do erro quadrático médio para a regressão linear**"
   ]
  },
  {
   "cell_type": "code",
   "execution_count": 15,
   "metadata": {},
   "outputs": [
    {
     "name": "stdout",
     "output_type": "stream",
     "text": [
      "MSE: 0.18488497003050905\n"
     ]
    }
   ],
   "source": [
    "from sklearn.linear_model import LinearRegression\n",
    "from sklearn.metrics import mean_squared_error\n",
    "\n",
    "# modelo de regressão linear \n",
    "lm = LinearRegression()\n",
    "lm.fit(x_train, y_train)\n",
    "\n",
    "y_pred = lm.predict(x_test)\n",
    "MSE = mean_squared_error(y_test, y_pred)\n",
    "print(\"MSE:\", MSE)          # Calculate the test MSE"
   ]
  },
  {
   "cell_type": "code",
   "execution_count": 16,
   "metadata": {},
   "outputs": [
    {
     "data": {
      "image/png": "[encoded data removed]",
      "text/plain": [
       "<Figure size 432x288 with 1 Axes>"
      ]
     },
     "metadata": {},
     "output_type": "display_data"
    }
   ],
   "source": [
    "import matplotlib.pyplot as plt\n",
    "\n",
    "fig = plt.figure()\n",
    "l = plt.plot(y_pred, y_test, 'bo')\n",
    "plt.setp(l, markersize=10)\n",
    "plt.setp(l, markerfacecolor='C0')\n",
    "\n",
    "plt.ylabel(\"y\", fontsize=15)\n",
    "plt.xlabel(\"Prediction\", fontsize=15)\n",
    "\n",
    "# mostra os valores preditos e originais\n",
    "xl = np.arange(min(y_test), 1.2*max(y_test),(max(y_test)-min(y_test))/10)\n",
    "yl = xl\n",
    "plt.plot(xl, yl, 'r--')\n",
    "\n",
    "plt.show(True)\n",
    "# salva a figura em um arquivo\n",
    "#fig.savefig('regression-LR.jpg')"
   ]
  },
  {
   "cell_type": "markdown",
   "metadata": {},
   "source": [
    "**Cálculo do R2 para a Regressão Linear**"
   ]
  },
  {
   "cell_type": "code",
   "execution_count": 17,
   "metadata": {},
   "outputs": [
    {
     "name": "stdout",
     "output_type": "stream",
     "text": [
      "R2: -0.0010625642681170167\n"
     ]
    }
   ],
   "source": [
    "from sklearn.metrics import r2_score\n",
    "R2 = r2_score(y_test, y_pred)\n",
    "print('R2:', R2)"
   ]
  },
  {
   "cell_type": "markdown",
   "metadata": {},
   "source": [
    "**Cálculo do erro quadratíco médio para o método Ridge**"
   ]
  },
  {
   "cell_type": "code",
   "execution_count": 18,
   "metadata": {},
   "outputs": [
    {
     "name": "stdout",
     "output_type": "stream",
     "text": [
      "MSE: 0.18488497003050905\n"
     ]
    }
   ],
   "source": [
    "from sklearn.linear_model import Ridge, RidgeCV\n",
    "from sklearn.metrics import mean_squared_error\n",
    "\n",
    "# ajusta o modelo ridge regression\n",
    "ridge2 = Ridge(alpha = 0, normalize = True)\n",
    "ridge2.fit(x_train, y_train)             # Fit a ridge regression on the training data\n",
    "y_pred = ridge2.predict(x_test)           # Use this model to predict the test data\n",
    "MSE = mean_squared_error(y_test, y_pred)\n",
    "print(\"MSE:\", MSE)          # Calculate the test MSE"
   ]
  },
  {
   "cell_type": "code",
   "execution_count": 19,
   "metadata": {},
   "outputs": [
    {
     "data": {
      "image/png": "[encoded data removed]",
      "text/plain": [
       "<Figure size 432x288 with 1 Axes>"
      ]
     },
     "metadata": {},
     "output_type": "display_data"
    }
   ],
   "source": [
    "vR2 = []\n",
    "valpha = []\n",
    "# variamos os valaores de alpha\n",
    "for alpha in np.arange(0,10,0.5):\n",
    "    ridge2 = Ridge(alpha = alpha, normalize = True)\n",
    "    ridge2.fit(x_train, y_train)             # Fit a ridge regression on the training data\n",
    "    y_pred = ridge2.predict(x_test)           # Use this model to predict the test data\n",
    "    r2 = r2_score(y_test, y_pred)\n",
    "    vR2.append(r2)\n",
    "    valpha.append(alpha)\n",
    "plt.plot(valpha, vR2, '-ro')\n",
    "plt.xlabel(\"alpha\", fontsize=15)\n",
    "plt.ylabel(\"R2\", fontsize=15)\n",
    "plt.show(True)"
   ]
  },
  {
   "cell_type": "markdown",
   "metadata": {},
   "source": [
    "**Cálculo do erro quadratíco médio para o método Lassso**"
   ]
  },
  {
   "cell_type": "code",
   "execution_count": 20,
   "metadata": {},
   "outputs": [
    {
     "name": "stdout",
     "output_type": "stream",
     "text": [
      "MSE: 0.1847469714837861\n"
     ]
    }
   ],
   "source": [
    "from sklearn.linear_model import Lasso\n",
    "from sklearn.metrics import mean_squared_error\n",
    "\n",
    "alpha = 0.1\n",
    "lasso = Lasso(alpha=alpha,normalize=True, max_iter=1e5)\n",
    "lasso.fit(x_train, y_train)             # Fit a ridge regression on the training data\n",
    "y_pred = lasso.predict(x_test)           # Use this model to predict the test data\n",
    "MSE = mean_squared_error(y_test, y_pred)         # Calculate the test MSE\n",
    "print('MSE:', MSE)"
   ]
  },
  {
   "cell_type": "code",
   "execution_count": 21,
   "metadata": {},
   "outputs": [
    {
     "data": {
      "image/png": "[encoded data removed]",
      "text/plain": [
       "<Figure size 432x288 with 1 Axes>"
      ]
     },
     "metadata": {},
     "output_type": "display_data"
    }
   ],
   "source": [
    "fig = plt.figure()\n",
    "l = plt.plot(y_pred, y_test, 'bo')\n",
    "plt.setp(l, markersize=10)\n",
    "plt.setp(l, markerfacecolor='C0')\n",
    "\n",
    "plt.ylabel(\"y\", fontsize=15)\n",
    "plt.xlabel(\"Prediction\", fontsize=15)\n",
    "\n",
    "# mostra os valores preditos e originais\n",
    "xl = np.arange(min(y_test), 1.2*max(y_test),(max(y_test)-min(y_test))/10)\n",
    "yl = xl\n",
    "plt.plot(xl, yl, 'r--')\n",
    "\n",
    "plt.show(True)\n",
    "# salva a figura em um arquivo\n",
    "fig.savefig('regression-Lasso.jpg')"
   ]
  },
  {
   "cell_type": "markdown",
   "metadata": {},
   "source": [
    "**Cálculo de R2 para o método Lasso**"
   ]
  },
  {
   "cell_type": "code",
   "execution_count": 22,
   "metadata": {},
   "outputs": [
    {
     "name": "stdout",
     "output_type": "stream",
     "text": [
      "R2: -0.00031536897676942566\n"
     ]
    }
   ],
   "source": [
    "from sklearn.metrics import r2_score\n",
    "R2 = r2_score(y_test, y_pred)\n",
    "print(\"R2:\", R2)  "
   ]
  },
  {
   "cell_type": "markdown",
   "metadata": {},
   "source": [
    "**Pré-processamento dos dados do arquivo 'AP_BD2.xlsx' não considerando outras variaveis além V8**"
   ]
  },
  {
   "cell_type": "code",
   "execution_count": 23,
   "metadata": {},
   "outputs": [
    {
     "name": "stdout",
     "output_type": "stream",
     "text": [
      "Número de linhas e colunas: (21578, 2)\n"
     ]
    },
    {
     "data": {
      "text/html": [
       "<div>\n",
       "<style scoped>\n",
       "    .dataframe tbody tr th:only-of-type {\n",
       "        vertical-align: middle;\n",
       "    }\n",
       "\n",
       "    .dataframe tbody tr th {\n",
       "        vertical-align: top;\n",
       "    }\n",
       "\n",
       "    .dataframe thead th {\n",
       "        text-align: right;\n",
       "    }\n",
       "</style>\n",
       "<table border=\"1\" class=\"dataframe\">\n",
       "  <thead>\n",
       "    <tr style=\"text-align: right;\">\n",
       "      <th></th>\n",
       "      <th>V8</th>\n",
       "      <th>Desfecho</th>\n",
       "    </tr>\n",
       "  </thead>\n",
       "  <tbody>\n",
       "    <tr>\n",
       "      <td>0</td>\n",
       "      <td>0.07</td>\n",
       "      <td>1</td>\n",
       "    </tr>\n",
       "    <tr>\n",
       "      <td>1</td>\n",
       "      <td>0.07</td>\n",
       "      <td>1</td>\n",
       "    </tr>\n",
       "    <tr>\n",
       "      <td>2</td>\n",
       "      <td>0.06</td>\n",
       "      <td>1</td>\n",
       "    </tr>\n",
       "    <tr>\n",
       "      <td>3</td>\n",
       "      <td>0.06</td>\n",
       "      <td>1</td>\n",
       "    </tr>\n",
       "    <tr>\n",
       "      <td>4</td>\n",
       "      <td>0.05</td>\n",
       "      <td>1</td>\n",
       "    </tr>\n",
       "    <tr>\n",
       "      <td>5</td>\n",
       "      <td>0.08</td>\n",
       "      <td>1</td>\n",
       "    </tr>\n",
       "    <tr>\n",
       "      <td>6</td>\n",
       "      <td>0.07</td>\n",
       "      <td>1</td>\n",
       "    </tr>\n",
       "    <tr>\n",
       "      <td>7</td>\n",
       "      <td>0.04</td>\n",
       "      <td>1</td>\n",
       "    </tr>\n",
       "    <tr>\n",
       "      <td>8</td>\n",
       "      <td>0.07</td>\n",
       "      <td>1</td>\n",
       "    </tr>\n",
       "    <tr>\n",
       "      <td>9</td>\n",
       "      <td>0.06</td>\n",
       "      <td>1</td>\n",
       "    </tr>\n",
       "  </tbody>\n",
       "</table>\n",
       "</div>"
      ],
      "text/plain": [
       "     V8  Desfecho\n",
       "0  0.07         1\n",
       "1  0.07         1\n",
       "2  0.06         1\n",
       "3  0.06         1\n",
       "4  0.05         1\n",
       "5  0.08         1\n",
       "6  0.07         1\n",
       "7  0.04         1\n",
       "8  0.07         1\n",
       "9  0.06         1"
      ]
     },
     "execution_count": 23,
     "metadata": {},
     "output_type": "execute_result"
    }
   ],
   "source": [
    "train = pd.read_excel('AP_BD2.xlsx', header=(0)) \n",
    "train.drop(['V1', 'V2', 'V3', 'V4', 'V5', 'V6', 'V7', 'V9'], axis=1, inplace=True) \n",
    "\n",
    "train.isnull().sum().sort_values(ascending=False).head(10)\n",
    "# remove as linhas com NaN\n",
    "train=train.dropna() \n",
    "print(\"Número de linhas e colunas:\",train.shape)\n",
    "train.head(10)"
   ]
  },
  {
   "cell_type": "code",
   "execution_count": 24,
   "metadata": {},
   "outputs": [],
   "source": [
    "train = train.to_numpy()\n",
    "nrow,ncol = train.shape\n",
    "y = train[:,-1]\n",
    "X = train[:,0:ncol-1]"
   ]
  },
  {
   "cell_type": "code",
   "execution_count": 25,
   "metadata": {},
   "outputs": [],
   "source": [
    "# divide o conjunto em treinamento e teste\n",
    "X_train, X_test, y_train, y_test = train_test_split(X, y, test_size=0.2, random_state=42)"
   ]
  },
  {
   "cell_type": "code",
   "execution_count": 26,
   "metadata": {},
   "outputs": [
    {
     "name": "stdout",
     "output_type": "stream",
     "text": [
      "k: 1 accurace: 0.6521875604362267\n",
      "k: 2 accurace: 0.7756933893875547\n",
      "k: 3 accurace: 0.7931891922515769\n",
      "k: 4 accurace: 0.7913338587856411\n",
      "k: 5 accurace: 0.8110881325684599\n",
      "k: 6 accurace: 0.7985748760548149\n",
      "k: 7 accurace: 0.7976465147239303\n",
      "k: 8 accurace: 0.799674754470857\n",
      "k: 9 accurace: 0.8001390461876995\n",
      "k: 10 accurace: 0.8026291806433578\n",
      "k: 11 accurace: 0.8066273466810049\n",
      "k: 12 accurace: 0.7984589340678521\n",
      "k: 13 accurace: 0.8018768462448883\n",
      "k: 14 accurace: 0.7952148140354108\n",
      "k: 15 accurace: 0.8085380933887868\n",
      "k: 16 accurace: 0.7992691387527636\n",
      "k: 17 accurace: 0.8085960241036517\n",
      "k: 18 accurace: 0.8084221917014368\n",
      "k: 19 accurace: 0.8098704998306823\n",
      "Melhor k: 5\n"
     ]
    },
    {
     "data": {
      "image/png": "[encoded data removed]",
      "text/plain": [
       "<Figure size 720x360 with 1 Axes>"
      ]
     },
     "metadata": {},
     "output_type": "display_data"
    }
   ],
   "source": [
    "from sklearn.model_selection import cross_validate\n",
    "from sklearn.neighbors import KNeighborsClassifier\n",
    "random.seed(42) # define the seed (important to reproduce the results)\n",
    "\n",
    "nkf = 6\n",
    "vk = []\n",
    "vscore = []\n",
    "for k in range(1, 20):\n",
    "    model = KNeighborsClassifier(n_neighbors=k, metric = 'euclidean')\n",
    "    cv = cross_validate(model, X_train, y_train, cv=nkf)\n",
    "    print('k:', k, 'accurace:', cv['test_score'].mean())\n",
    "    vscore.append(cv['test_score'].mean())\n",
    "    vk.append(k)\n",
    "\n",
    "best_k = np.argmax(vscore)+1\n",
    "print('Melhor k:', best_k)\n",
    "plt.figure(figsize=(10,5))\n",
    "plt.plot(vk, vscore, '-bo')\n",
    "plt.xlabel('k', fontsize = 15)\n",
    "plt.ylabel('Accuracy', fontsize = 15)\n",
    "plt.show()"
   ]
  },
  {
   "cell_type": "code",
   "execution_count": 27,
   "metadata": {},
   "outputs": [
    {
     "name": "stdout",
     "output_type": "stream",
     "text": [
      "Accuracy: 0.7914735866543096\n"
     ]
    }
   ],
   "source": [
    "from sklearn.metrics import accuracy_score\n",
    "model = KNeighborsClassifier(n_neighbors=best_k, metric = 'euclidean')\n",
    "model.fit(X_train, y_train)\n",
    "y_pred = model.predict(X_test)\n",
    "print('Accuracy:', accuracy_score(y_pred, y_test))"
   ]
  },
  {
   "cell_type": "markdown",
   "metadata": {},
   "source": [
    "**Conclusão**"
   ]
  },
  {
   "cell_type": "code",
   "execution_count": null,
   "metadata": {},
   "outputs": [],
   "source": []
  }
 ],
 "metadata": {
  "kernelspec": {
   "display_name": "Python 3",
   "language": "python",
   "name": "python3"
  },
  "language_info": {
   "codemirror_mode": {
    "name": "ipython",
    "version": 3
   },
   "file_extension": ".py",
   "mimetype": "text/x-python",
   "name": "python",
   "nbconvert_exporter": "python",
   "pygments_lexer": "ipython3",
   "version": "3.7.4"
  }
 },
 "nbformat": 4,
 "nbformat_minor": 2
}
